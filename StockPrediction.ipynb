{
 "cells": [
  {
   "cell_type": "code",
   "execution_count": 255,
   "id": "9aebbde8",
   "metadata": {},
   "outputs": [],
   "source": [
    "import matplotlib.pyplot as plt\n",
    "import numpy as np\n",
    "import pandas as pd"
   ]
  },
  {
   "cell_type": "code",
   "execution_count": 256,
   "id": "6c56a384",
   "metadata": {},
   "outputs": [],
   "source": [
    "from pyspark.sql import functions as F\n",
    "from pyspark.sql.window import Window\n",
    "from pyspark.sql.functions import *\n",
    "from pyspark.ml.feature import VectorAssembler\n",
    "from pyspark.ml.feature import OneHotEncoder, StringIndexer\n",
    "from pyspark.ml.regression import DecisionTreeRegressor\n",
    "from pyspark.ml.evaluation import RegressionEvaluator"
   ]
  },
  {
   "cell_type": "code",
   "execution_count": 257,
   "id": "24964ee9",
   "metadata": {},
   "outputs": [],
   "source": [
    "from pyspark.ml.regression import LinearRegression\n",
    "from pyspark.ml import Pipeline"
   ]
  },
  {
   "cell_type": "code",
   "execution_count": 258,
   "id": "c5a9de4a",
   "metadata": {},
   "outputs": [],
   "source": [
    "%matplotlib inline"
   ]
  },
  {
   "cell_type": "code",
   "execution_count": 259,
   "id": "64edc27d",
   "metadata": {},
   "outputs": [],
   "source": [
    "import pyspark\n",
    "from pyspark.sql import SparkSession"
   ]
  },
  {
   "cell_type": "code",
   "execution_count": 260,
   "id": "522c4095",
   "metadata": {},
   "outputs": [],
   "source": [
    "spark = SparkSession.builder.master(\"local[1]\").appName(\"StockPrediction\").getOrCreate()"
   ]
  },
  {
   "cell_type": "code",
   "execution_count": 261,
   "id": "22ade6cc",
   "metadata": {
    "scrolled": true
   },
   "outputs": [
    {
     "name": "stdout",
     "output_type": "stream",
     "text": [
      "root\n",
      " |-- _c0: string (nullable = true)\n",
      " |-- _c1: string (nullable = true)\n",
      " |-- _c2: string (nullable = true)\n",
      " |-- _c3: string (nullable = true)\n",
      " |-- _c4: string (nullable = true)\n",
      " |-- _c5: string (nullable = true)\n",
      " |-- _c6: string (nullable = true)\n",
      "\n"
     ]
    }
   ],
   "source": [
    "df = spark.read.csv(\"etfs/SPY.csv\")\n",
    "df.printSchema()"
   ]
  },
  {
   "cell_type": "code",
   "execution_count": 262,
   "id": "c80df03c",
   "metadata": {},
   "outputs": [
    {
     "name": "stdout",
     "output_type": "stream",
     "text": [
      "+----------+--------+--------+--------+--------+------------------+-------+\n",
      "|      Date|    Open|    High|     Low|   Close|         Adj Close| Volume|\n",
      "+----------+--------+--------+--------+--------+------------------+-------+\n",
      "|1993-01-29|43.96875|43.96875|   43.75| 43.9375|26.299287796020508|1003200|\n",
      "|1993-02-01|43.96875|   44.25|43.96875|   44.25|26.486324310302734| 480500|\n",
      "|1993-02-02|44.21875|  44.375|  44.125|44.34375|26.542448043823242| 201300|\n",
      "|1993-02-03|44.40625|44.84375|  44.375| 44.8125|   26.822998046875| 529400|\n",
      "|1993-02-04|44.96875|45.09375|44.46875|    45.0|26.935239791870117| 531500|\n",
      "+----------+--------+--------+--------+--------+------------------+-------+\n",
      "only showing top 5 rows\n",
      "\n"
     ]
    }
   ],
   "source": [
    "df = df.withColumnRenamed(\"_c0\",\"Date\").withColumnRenamed(\"_c1\",\"Open\").withColumnRenamed(\"_c2\",\"High\").withColumnRenamed(\"_c3\",\"Low\").withColumnRenamed(\"_c4\",\"Close\").withColumnRenamed(\"_c5\",\"Adj Close\").withColumnRenamed(\"_c6\",\"Volume\")\n",
    "df = df.where(df.Date != \"Date\")\n",
    "df.show(5)"
   ]
  },
  {
   "cell_type": "code",
   "execution_count": 263,
   "id": "7d3dfd64",
   "metadata": {},
   "outputs": [],
   "source": [
    "days = lambda i: i * 86400\n",
    "#create window by casting timestamp to long (number of seconds)\n",
    "w = (Window.orderBy(to_timestamp(F.col(\"Date\")).cast('long')).rangeBetween(-days(7), 0))\n",
    "\n",
    "w2 = Window.partitionBy().orderBy(\"date\")\n",
    "\n",
    "#create Features\n",
    "\n",
    "df = df.withColumn('rolling_average', F.avg(\"Close\").over(w))\n",
    "df = df.withColumn('is_higher_than_rollavg', F.when(F.lag(df[\"Close\"]).over(w2) < F.col(\"Close\"), 'yep').otherwise('nah'))\n",
    "df = df.withColumn('diffOpenClose', df[\"Open\"] - df[\"Close\"])\n",
    "df = df.withColumn('diffHighLow', df[\"High\"] - df[\"Low\"])\n",
    "\n",
    "#df = df.withColumn('Open', F.col(\"Open\").cast('float'))\n",
    "#df = df.withColumn('High', F.col(\"High\").cast('float'))\n",
    "#df = df.withColumn('Low', F.col(\"Low\").cast('float'))\n",
    "#df = df.withColumn('Close', F.col(\"Close\").cast('float'))"
   ]
  },
  {
   "cell_type": "code",
   "execution_count": 264,
   "id": "6c79af1b",
   "metadata": {},
   "outputs": [
    {
     "name": "stdout",
     "output_type": "stream",
     "text": [
      "+----------+--------+--------+--------+--------+------------------+-------+------------------+----------------------+-------------+-----------+\n",
      "|      Date|    Open|    High|     Low|   Close|         Adj Close| Volume|   rolling_average|is_higher_than_rollavg|diffOpenClose|diffHighLow|\n",
      "+----------+--------+--------+--------+--------+------------------+-------+------------------+----------------------+-------------+-----------+\n",
      "|1993-01-29|43.96875|43.96875|   43.75| 43.9375|26.299287796020508|1003200|           43.9375|                   nah|      0.03125|    0.21875|\n",
      "|1993-02-01|43.96875|   44.25|43.96875|   44.25|26.486324310302734| 480500|          44.09375|                   yep|     -0.28125|    0.28125|\n",
      "|1993-02-02|44.21875|  44.375|  44.125|44.34375|26.542448043823242| 201300|44.177083333333336|                   yep|       -0.125|       0.25|\n",
      "|1993-02-03|44.40625|44.84375|  44.375| 44.8125|   26.822998046875| 529400|        44.3359375|                   yep|     -0.40625|    0.46875|\n",
      "|1993-02-04|44.96875|45.09375|44.46875|    45.0|26.935239791870117| 531500|          44.46875|                   yep|     -0.03125|      0.625|\n",
      "|1993-02-05|44.96875| 45.0625|44.71875|44.96875| 26.91653823852539| 492100|44.552083333333336|                   nah|          0.0|    0.34375|\n",
      "|1993-02-08|44.96875|  45.125|44.90625|44.96875| 26.91653823852539| 596100|44.723958333333336|                   nah|          0.0|    0.21875|\n",
      "|1993-02-09| 44.8125| 44.8125| 44.5625|44.65625|26.729490280151367| 122100|44.791666666666664|                   nah|      0.15625|       0.25|\n",
      "|1993-02-10|44.65625|   44.75|44.53125|44.71875| 26.76689910888672| 379600|44.854166666666664|                   yep|      -0.0625|    0.21875|\n",
      "|1993-02-11|44.78125|  45.125|44.78125| 44.9375| 26.89783477783203|  19500|            44.875|                   yep|     -0.15625|    0.34375|\n",
      "+----------+--------+--------+--------+--------+------------------+-------+------------------+----------------------+-------------+-----------+\n",
      "only showing top 10 rows\n",
      "\n"
     ]
    }
   ],
   "source": [
    "df.show(10)"
   ]
  },
  {
   "cell_type": "code",
   "execution_count": 265,
   "id": "13b1ef8e",
   "metadata": {},
   "outputs": [
    {
     "name": "stdout",
     "output_type": "stream",
     "text": [
      "+---------------+-------------+-----------+--------------------+--------+\n",
      "|rolling_average|diffOpenClose|diffHighLow|            features|   Close|\n",
      "+---------------+-------------+-----------+--------------------+--------+\n",
      "|        43.9375|      0.03125|    0.21875|[43.9375,0.03125,...| 43.9375|\n",
      "|       44.09375|     -0.28125|    0.28125|[44.09375,-0.2812...|   44.25|\n",
      "|      44.177082|       -0.125|       0.25|[44.1770820617675...|44.34375|\n",
      "|      44.335938|     -0.40625|    0.46875|[44.3359375,-0.40...| 44.8125|\n",
      "|       44.46875|     -0.03125|      0.625|[44.46875,-0.0312...|    45.0|\n",
      "|      44.552082|          0.0|    0.34375|[44.5520820617675...|44.96875|\n",
      "|      44.723957|          0.0|    0.21875|[44.7239570617675...|44.96875|\n",
      "|      44.791668|      0.15625|       0.25|[44.7916679382324...|44.65625|\n",
      "|      44.854168|      -0.0625|    0.21875|[44.8541679382324...|44.71875|\n",
      "|         44.875|     -0.15625|    0.34375|[44.875,-0.15625,...| 44.9375|\n",
      "+---------------+-------------+-----------+--------------------+--------+\n",
      "only showing top 10 rows\n",
      "\n",
      "Root Mean Squared Error (RMSE) on test data = 1.3677\n",
      "+----------+--------+--------+--------+--------+------------------+------+---------------+-------------+-----------+--------------------+------------------+--------------------+\n",
      "|      Date|    Open|    High|     Low|   Close|         Adj Close|Volume|rolling_average|diffOpenClose|diffHighLow|            features|        prediction|               Error|\n",
      "+----------+--------+--------+--------+--------+------------------+------+---------------+-------------+-----------+--------------------+------------------+--------------------+\n",
      "|1993-02-04|44.96875|45.09375|44.46875|    45.0|26.935239791870117|531500|       44.46875|     -0.03125|      0.625|[44.46875,-0.0312...| 44.75239821463362| 0.24760178536637767|\n",
      "|1993-02-09| 44.8125| 44.8125| 44.5625|44.65625|26.729490280151367|122100|      44.791668|      0.15625|       0.25|[44.7916679382324...|   45.119894589997|-0.46364458999700275|\n",
      "|1993-02-17|43.46875|43.53125|43.28125| 43.4375| 25.99999237060547|210900|       44.23125|      0.03125|       0.25|[44.2312507629394...| 44.65345294240029| -1.2159529424002926|\n",
      "|1993-03-02| 44.3125| 44.9375|   44.25| 44.9375| 26.89783477783203|182400|      44.317707|       -0.625|     0.6875|[44.3177070617675...|45.025796438738354| -0.0882964387383538|\n",
      "|1993-03-03|    45.0|45.15625| 44.9375|  45.125|27.010061264038086|280100|      44.557293|       -0.125|    0.21875|[44.5572929382324...|45.116388576917196|0.008611423082804492|\n",
      "|1993-03-15| 45.0625| 45.3125| 45.0625| 45.3125|27.122303009033203|310800|           45.5|        -0.25|       0.25|   [45.5,-0.25,0.25]|46.143017194186854| -0.8305171941868537|\n",
      "|1993-03-16| 45.3125| 45.4375| 45.3125| 45.3125|27.122303009033203| 30800|      45.427082|          0.0|      0.125|[45.4270820617675...| 45.94021293575396| -0.6277129357539621|\n",
      "|1993-03-22|44.59375|  44.875| 44.5625|44.78125|26.930896759033203|183400|      45.130207|      -0.1875|     0.3125|[45.1302070617675...|45.692585633677375| -0.9113356336773748|\n",
      "|1993-03-23|44.90625| 44.9375| 44.8125|  44.875|26.987293243408203| 55200|      45.057293|      0.03125|      0.125|[45.0572929382324...| 45.54504126220007| -0.6700412622000727|\n",
      "|1993-03-26|  45.125|45.15625|  44.875|44.90625|27.006078720092773|101500|        44.9375|      0.21875|    0.28125|[44.9375,0.21875,...| 45.20261953942856| -0.2963695394285608|\n",
      "+----------+--------+--------+--------+--------+------------------+------+---------------+-------------+-----------+--------------------+------------------+--------------------+\n",
      "only showing top 10 rows\n",
      "\n"
     ]
    }
   ],
   "source": [
    "def linearRegression3features(df):\n",
    "    df = df.withColumn('Open', F.col(\"Open\").cast('float'))\n",
    "    df = df.withColumn('High', F.col(\"High\").cast('float'))\n",
    "    df = df.withColumn('Low', F.col(\"Low\").cast('float'))\n",
    "    df = df.withColumn('Close', F.col(\"Close\").cast('float'))\n",
    "    df = df.withColumn('diffOpenClose', F.col(\"diffOpenClose\").cast('float'))\n",
    "    df = df.withColumn('diffHighLow', F.col(\"diffHighLow\").cast('float'))\n",
    "    df = df.withColumn('rolling_average', F.col(\"rolling_average\").cast('float'))\n",
    "    df = df.drop(\"is_higher_than_rollavg\")\n",
    "\n",
    "    assembler = VectorAssembler(inputCols=[\"rolling_average\",\"diffOpenClose\",\"diffHighLow\"], outputCol=\"features\")\n",
    "    vecTrainDF = assembler.transform(df)\n",
    "    vecTrainDF.select(\"rolling_average\",\"diffOpenClose\",\"diffHighLow\", \"features\", \"Close\").show(10)\n",
    "    pipeline = Pipeline(stages=[assembler])\n",
    "    pipelineModel = pipeline.fit(df)\n",
    "    res = pipelineModel.transform(df)\n",
    "\n",
    "    (trainingData, testData) = res.randomSplit([0.8, 0.2])\n",
    "\n",
    "    lr = LinearRegression(featuresCol=\"features\", labelCol=\"Close\")\n",
    "    lrModel = lr.fit(trainingData)\n",
    "    predictions = lrModel.transform(testData)\n",
    "\n",
    "    evaluator = RegressionEvaluator(labelCol=\"Close\", predictionCol=\"prediction\", metricName=\"rmse\")\n",
    "    rmse = evaluator.evaluate(predictions)\n",
    "    print(\"Root Mean Squared Error (RMSE) on test data = %g\" % rmse)\n",
    "    predictions = predictions.withColumn(\"Error\", F.col(\"Close\") - F.col(\"prediction\"))\n",
    "    predictions.show(10)\n",
    "    return rmse, predictions\n",
    "\n",
    "linear3_score = linearRegression3features(df)"
   ]
  },
  {
   "cell_type": "code",
   "execution_count": 266,
   "id": "668f1ee7",
   "metadata": {},
   "outputs": [
    {
     "name": "stdout",
     "output_type": "stream",
     "text": [
      "+---------------+-------------------+--------+\n",
      "|rolling_average|           features|   Close|\n",
      "+---------------+-------------------+--------+\n",
      "|        43.9375|          [43.9375]| 43.9375|\n",
      "|       44.09375|         [44.09375]|   44.25|\n",
      "|      44.177082|[44.17708206176758]|44.34375|\n",
      "|      44.335938|       [44.3359375]| 44.8125|\n",
      "|       44.46875|         [44.46875]|    45.0|\n",
      "|      44.552082|[44.55208206176758]|44.96875|\n",
      "|      44.723957|[44.72395706176758]|44.96875|\n",
      "|      44.791668|[44.79166793823242]|44.65625|\n",
      "|      44.854168|[44.85416793823242]|44.71875|\n",
      "|         44.875|           [44.875]| 44.9375|\n",
      "+---------------+-------------------+--------+\n",
      "only showing top 10 rows\n",
      "\n",
      "Root Mean Squared Error (RMSE) on test data = 2.20525\n",
      "+----------+--------+-------+---------------+-------------+-----------+-----------------+--------------------+\n",
      "|      Date|   Close| Volume|rolling_average|diffOpenClose|diffHighLow|       prediction|               Error|\n",
      "+----------+--------+-------+---------------+-------------+-----------+-----------------+--------------------+\n",
      "|1993-01-29| 43.9375|1003200|        43.9375|      0.03125|    0.21875| 43.9921641438871|-0.05466414388710206|\n",
      "|1993-02-01|   44.25| 480500|       44.09375|     -0.28125|    0.28125|44.14844947389581| 0.10155052610419091|\n",
      "|1993-02-05|44.96875| 492100|      44.552082|          0.0|    0.34375|44.60688517006808|  0.3618648299319176|\n",
      "|1993-02-08|44.96875| 596100|      44.723957|          0.0|    0.21875|44.77879903307766| 0.18995096692233915|\n",
      "|1993-02-09|44.65625| 122100|      44.791668|      0.15625|       0.25|44.84652521978798| -0.1902752197879778|\n",
      "|1993-02-12|44.59375|  42500|      44.807293|      0.28125|    0.28125|44.86215375278884| -0.2684037527888421|\n",
      "|1993-02-16|43.46875| 374800|         44.475|          1.0|     1.0625|44.52978415289313| -1.0610341528931286|\n",
      "|1993-02-19| 43.5625|  34900|       43.69375|     -0.15625|    0.21875|43.74835750284959|-0.18585750284959346|\n",
      "|1993-02-26|44.40625|  66200|      43.994793|      0.03125|       0.25|44.04947003674357|  0.3567799632564288|\n",
      "|1993-03-17|45.03125|  21800|      45.333332|      0.21875|    0.28125|45.38831182011162| -0.3570618201116176|\n",
      "+----------+--------+-------+---------------+-------------+-----------+-----------------+--------------------+\n",
      "only showing top 10 rows\n",
      "\n"
     ]
    }
   ],
   "source": [
    "def linearRegressionAlone(df):\n",
    "    df = df.withColumn('Open', F.col(\"Open\").cast('float'))\n",
    "    df = df.withColumn('High', F.col(\"High\").cast('float'))\n",
    "    df = df.withColumn('Low', F.col(\"Low\").cast('float'))\n",
    "    df = df.withColumn('Close', F.col(\"Close\").cast('float'))\n",
    "    df = df.withColumn('diffOpenClose', F.col(\"diffOpenClose\").cast('float'))\n",
    "    df = df.withColumn('diffHighLow', F.col(\"diffHighLow\").cast('float'))\n",
    "    df = df.withColumn('rolling_average', F.col(\"rolling_average\").cast('float'))\n",
    "    df = df.drop(\"is_higher_than_rollavg\")\n",
    "\n",
    "    assembler = VectorAssembler(inputCols=[\"rolling_average\"], outputCol=\"features\")\n",
    "    vecTrainDF = assembler.transform(df)\n",
    "    vecTrainDF.select(\"rolling_average\", \"features\", \"Close\").show(10)\n",
    "    pipeline = Pipeline(stages=[assembler])\n",
    "    pipelineModel = pipeline.fit(df)\n",
    "    res = pipelineModel.transform(df)\n",
    "\n",
    "    (trainingData, testData) = res.randomSplit([0.8, 0.2])\n",
    "\n",
    "    lr = LinearRegression(featuresCol=\"features\", labelCol=\"Close\")\n",
    "    lrModel = lr.fit(trainingData)\n",
    "    predictions = lrModel.transform(testData)\n",
    "\n",
    "    evaluator = RegressionEvaluator(labelCol=\"Close\", predictionCol=\"prediction\", metricName=\"rmse\")\n",
    "    rmse = evaluator.evaluate(predictions)\n",
    "    print(\"Root Mean Squared Error (RMSE) on test data = %g\" % rmse)\n",
    "    predictions = predictions.withColumn(\"Error\", F.col(\"Close\") - F.col(\"prediction\"))\n",
    "    predictions.drop(\"Open\").drop(\"High\").drop(\"Low\").drop(\"Adj Close\").drop(\"features\").show(10)\n",
    "    return rmse, predictions\n",
    "\n",
    "linear1_score = linearRegressionAlone(df)"
   ]
  },
  {
   "cell_type": "code",
   "execution_count": 268,
   "id": "93b5d4d4",
   "metadata": {},
   "outputs": [
    {
     "name": "stdout",
     "output_type": "stream",
     "text": [
      "+--------+-----+--------------------+\n",
      "|   close|label|            features|\n",
      "+--------+-----+--------------------+\n",
      "| 43.9375|  1.0|[0.03125,43.9375,...|\n",
      "|   44.25|  0.0|[-0.28125,44.0937...|\n",
      "|44.34375|  0.0|[-0.125,44.177082...|\n",
      "| 44.8125|  0.0|[-0.40625,44.3359...|\n",
      "|    45.0|  0.0|[-0.03125,44.4687...|\n",
      "|44.96875|  1.0|[0.0,44.552082061...|\n",
      "|44.96875|  1.0|[0.0,44.723957061...|\n",
      "|44.65625|  1.0|[0.15625,44.79166...|\n",
      "|44.71875|  0.0|[-0.0625,44.85416...|\n",
      "| 44.9375|  0.0|[-0.15625,44.875,...|\n",
      "|44.59375|  1.0|[0.28125,44.80729...|\n",
      "|43.46875|  1.0|[1.0,44.474998474...|\n",
      "| 43.4375|  1.0|[0.03125,44.23125...|\n",
      "|43.40625|  1.0|[0.53125,43.96875...|\n",
      "| 43.5625|  0.0|[-0.15625,43.6937...|\n",
      "|43.71875|  0.0|[-0.03125,43.5187...|\n",
      "| 43.6875|  1.0|[0.15625,43.54687...|\n",
      "|   44.25|  0.0|[-0.53125,43.6770...|\n",
      "|44.34375|  0.0|[-0.125,43.828125...|\n",
      "|44.40625|  0.0|[0.03125,43.99479...|\n",
      "+--------+-----+--------------------+\n",
      "only showing top 20 rows\n",
      "\n",
      "+--------+-----+-------------------+\n",
      "|   close|label|         prediction|\n",
      "+--------+-----+-------------------+\n",
      "| 44.8125|  0.0|0.09655172413793103|\n",
      "|    45.0|  0.0| 0.5510204081632653|\n",
      "|44.96875|  1.0| 0.5510204081632653|\n",
      "| 43.4375|  1.0| 0.5510204081632653|\n",
      "| 43.6875|  1.0| 0.9353233830845771|\n",
      "| 44.9375|  0.0|0.09655172413793103|\n",
      "|  44.875|  1.0| 0.9353233830845771|\n",
      "| 45.3125|  0.0|0.09655172413793103|\n",
      "|44.78125|  1.0|0.09655172413793103|\n",
      "|44.90625|  1.0| 0.9353233830845771|\n",
      "+--------+-----+-------------------+\n",
      "only showing top 10 rows\n",
      "\n",
      "Root Mean Squared Error (RMSE) on test data = 0.369375\n"
     ]
    }
   ],
   "source": [
    "def DecisionTreeRegressorLessCategorical(df):\n",
    "    df = df.withColumn('Open', F.col(\"Open\").cast('float'))\n",
    "    df = df.withColumn('High', F.col(\"High\").cast('float'))\n",
    "    df = df.withColumn('Low', F.col(\"Low\").cast('float'))\n",
    "    df = df.withColumn('Close', F.col(\"Close\").cast('float'))\n",
    "    df = df.withColumn('diffOpenClose', F.col(\"diffOpenClose\").cast('float'))\n",
    "    df = df.withColumn('diffHighLow', F.col(\"diffHighLow\").cast('float'))\n",
    "    df = df.withColumn('rolling_average', F.col(\"rolling_average\").cast('float'))\n",
    "    stages = []\n",
    "\n",
    "    label_stringIdx = StringIndexer(inputCol='is_higher_than_rollavg', outputCol='label')\n",
    "    stages += [label_stringIdx]\n",
    "\n",
    "    assembler = VectorAssembler(inputCols=[\"diffOpenClose\",\"rolling_average\",\"diffHighLow\"], outputCol=\"features\")\n",
    "    \n",
    "    stages += [assembler]\n",
    "\n",
    "    pipeline = Pipeline(stages=stages)\n",
    "    pipelineModel = pipeline.fit(df)\n",
    "    df = pipelineModel.transform(df)\n",
    "    df.select('close', 'label', 'features').show()\n",
    "    \n",
    "    (trainingData, testData) = df.randomSplit([0.8, 0.2])\n",
    "    \n",
    "    dr = DecisionTreeRegressor(labelCol=\"label\", featuresCol=\"features\")\n",
    "\n",
    "    model = dr.fit(trainingData)\n",
    "    predictions = model.transform(testData)\n",
    "    predictions.select(\"close\",\"label\",\"prediction\").show(10)\n",
    "\n",
    "    evaluator = RegressionEvaluator(labelCol=\"label\", predictionCol=\"prediction\", metricName=\"rmse\")\n",
    "    rmse = evaluator.evaluate(predictions)\n",
    "    print(\"Root Mean Squared Error (RMSE) on test data = %g\" % rmse)\n",
    "    return rmse\n",
    "\n",
    "DecisionTree2_score = DecisionTreeRegressorLessCategorical(df)"
   ]
  },
  {
   "cell_type": "code",
   "execution_count": null,
   "id": "183c1880",
   "metadata": {},
   "outputs": [
    {
     "name": "stdout",
     "output_type": "stream",
     "text": [
      "+--------+-----+--------------------+\n",
      "|   close|label|            features|\n",
      "+--------+-----+--------------------+\n",
      "| 43.9375|  1.0|(21724,[165,9859,...|\n",
      "|   44.25|  0.0|(21724,[842,5658,...|\n",
      "|44.34375|  0.0|(21724,[166,6293,...|\n",
      "| 44.8125|  0.0|(21724,[16,5662,1...|\n",
      "|    45.0|  0.0|(21724,[29,5467,1...|\n",
      "|44.96875|  1.0|(21724,[4,5468,10...|\n",
      "|44.96875|  1.0|(21724,[5,5458,10...|\n",
      "|44.65625|  1.0|(21724,[7,5523,11...|\n",
      "|44.71875|  0.0|(21724,[6,5480,10...|\n",
      "| 44.9375|  0.0|(21724,[5,5482,10...|\n",
      "|44.59375|  1.0|(21724,[851,5524,...|\n",
      "|43.46875|  1.0|(21724,[845,9853,...|\n",
      "| 43.4375|  1.0|(21724,[4488,6288...|\n",
      "|43.40625|  1.0|(21724,[840,9852,...|\n",
      "| 43.5625|  0.0|(21724,[4489,5657...|\n",
      "|43.71875|  0.0|(21724,[4490,9856...|\n",
      "| 43.6875|  1.0|(21724,[839,9854,...|\n",
      "|   44.25|  0.0|(21724,[842,6289,...|\n",
      "|44.34375|  0.0|(21724,[166,6293,...|\n",
      "|44.40625|  0.0|(21724,[844,5660,...|\n",
      "+--------+-----+--------------------+\n",
      "only showing top 20 rows\n",
      "\n"
     ]
    }
   ],
   "source": [
    "def DecisionTreeRegressorProc(df):\n",
    "    categoricalColumns = ['High', 'Low', 'Open', 'Close']\n",
    "    stages = []\n",
    "\n",
    "    for categoricalCol in categoricalColumns:\n",
    "        stringIndexer = StringIndexer(inputCol=categoricalCol, outputCol=categoricalCol + 'Index')\n",
    "        encoder = OneHotEncoder(inputCols=[stringIndexer.getOutputCol()], outputCols=[categoricalCol + \"classVec\"])\n",
    "        stages += [stringIndexer, encoder]\n",
    "\n",
    "    label_stringIdx = StringIndexer(inputCol='is_higher_than_rollavg', outputCol='label')\n",
    "    stages += [label_stringIdx]\n",
    "\n",
    "    assembler = VectorAssembler(inputCols=[c + \"classVec\" for c in categoricalColumns], outputCol=\"features\")\n",
    "    stages += [assembler]\n",
    "\n",
    "    pipeline = Pipeline(stages=stages)\n",
    "    pipelineModel = pipeline.fit(df)\n",
    "    df = pipelineModel.transform(df)\n",
    "    df.select('close', 'label', 'features').show()\n",
    "    \n",
    "    (trainingData, testData) = df.randomSplit([0.8, 0.2])\n",
    "    \n",
    "    dr = DecisionTreeRegressor(labelCol=\"label\", featuresCol=\"features\")\n",
    "\n",
    "    model = dr.fit(trainingData)\n",
    "    predictions = model.transform(testData)\n",
    "    predictions.select(\"close\",\"label\",\"prediction\").show(10)\n",
    "\n",
    "    evaluator = RegressionEvaluator(labelCol=\"label\", predictionCol=\"prediction\", metricName=\"rmse\")\n",
    "    rmse = evaluator.evaluate(predictions)\n",
    "    print(\"Root Mean Squared Error (RMSE) on test data = %g\" % rmse)\n",
    "    return rmse\n",
    "\n",
    "DecisionTree_score = DecisionTreeRegressorProc(df)"
   ]
  },
  {
   "cell_type": "code",
   "execution_count": 222,
   "id": "0813cadc",
   "metadata": {},
   "outputs": [],
   "source": []
  },
  {
   "cell_type": "code",
   "execution_count": null,
   "id": "4d4203ed",
   "metadata": {
    "scrolled": false
   },
   "outputs": [],
   "source": []
  },
  {
   "cell_type": "code",
   "execution_count": null,
   "id": "e6f5106a",
   "metadata": {},
   "outputs": [],
   "source": []
  },
  {
   "cell_type": "code",
   "execution_count": null,
   "id": "9be4727c",
   "metadata": {},
   "outputs": [],
   "source": []
  },
  {
   "cell_type": "code",
   "execution_count": null,
   "id": "67810e6d",
   "metadata": {},
   "outputs": [],
   "source": []
  }
 ],
 "metadata": {
  "kernelspec": {
   "display_name": "Python 3",
   "language": "python",
   "name": "python3"
  },
  "language_info": {
   "codemirror_mode": {
    "name": "ipython",
    "version": 3
   },
   "file_extension": ".py",
   "mimetype": "text/x-python",
   "name": "python",
   "nbconvert_exporter": "python",
   "pygments_lexer": "ipython3",
   "version": "3.6.8"
  }
 },
 "nbformat": 4,
 "nbformat_minor": 5
}
